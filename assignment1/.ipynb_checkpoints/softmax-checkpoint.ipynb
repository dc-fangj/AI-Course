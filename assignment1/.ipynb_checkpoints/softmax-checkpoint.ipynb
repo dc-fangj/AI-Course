{
 "cells": [
  {
   "cell_type": "markdown",
   "metadata": {},
   "source": [
    "# Softmax exercise\n",
    "\n",
    "*Complete and hand in this completed worksheet (including its outputs and any supporting code outside of the worksheet) with your assignment submission. For more details see the [assignments page](http://vision.stanford.edu/teaching/cs231n/assignments.html) on the course website.*\n",
    "\n",
    "This exercise is analogous to the SVM exercise. You will:\n",
    "\n",
    "- implement a fully-vectorized **loss function** for the Softmax classifier\n",
    "- implement the fully-vectorized expression for its **analytic gradient**\n",
    "- **check your implementation** with numerical gradient\n",
    "- use a validation set to **tune the learning rate and regularization** strength\n",
    "- **optimize** the loss function with **SGD**\n",
    "- **visualize** the final learned weights\n"
   ]
  },
  {
   "cell_type": "code",
   "execution_count": 3,
   "metadata": {},
   "outputs": [],
   "source": [
    "import random\n",
    "import numpy as np\n",
    "from cs231n.data_utils import load_CIFAR10\n",
    "import matplotlib.pyplot as plt\n",
    "\n",
    "from __future__ import print_function\n",
    "\n",
    "%matplotlib inline\n",
    "plt.rcParams['figure.figsize'] = (10.0, 8.0) # set default size of plots\n",
    "plt.rcParams['image.interpolation'] = 'nearest'\n",
    "plt.rcParams['image.cmap'] = 'gray'\n",
    "\n",
    "# for auto-reloading extenrnal modules\n",
    "# see http://stackoverflow.com/questions/1907993/autoreload-of-modules-in-ipython\n",
    "%load_ext autoreload\n",
    "%autoreload 2"
   ]
  },
  {
   "cell_type": "code",
   "execution_count": 4,
   "metadata": {},
   "outputs": [
    {
     "name": "stdout",
     "output_type": "stream",
     "text": [
      "Train data shape:  (49000, 3073)\n",
      "Train labels shape:  (49000,)\n",
      "Validation data shape:  (1000, 3073)\n",
      "Validation labels shape:  (1000,)\n",
      "Test data shape:  (1000, 3073)\n",
      "Test labels shape:  (1000,)\n",
      "dev data shape:  (500, 3073)\n",
      "dev labels shape:  (500,)\n"
     ]
    }
   ],
   "source": [
    "def get_CIFAR10_data(num_training=49000, num_validation=1000, num_test=1000, num_dev=500):\n",
    "    \"\"\"\n",
    "    Load the CIFAR-10 dataset from disk and perform preprocessing to prepare\n",
    "    it for the linear classifier. These are the same steps as we used for the\n",
    "    SVM, but condensed to a single function.  \n",
    "    \"\"\"\n",
    "    # Load the raw CIFAR-10 data\n",
    "    cifar10_dir = 'D:/cifar-10-batches-py'\n",
    "    \n",
    "    X_train, y_train, X_test, y_test = load_CIFAR10(cifar10_dir)\n",
    "    \n",
    "    # subsample the data\n",
    "    mask = list(range(num_training, num_training + num_validation))\n",
    "    X_val = X_train[mask]\n",
    "    y_val = y_train[mask]\n",
    "    mask = list(range(num_training))\n",
    "    X_train = X_train[mask]\n",
    "    y_train = y_train[mask]\n",
    "    mask = list(range(num_test))\n",
    "    X_test = X_test[mask]\n",
    "    y_test = y_test[mask]\n",
    "    mask = np.random.choice(num_training, num_dev, replace=False)\n",
    "    X_dev = X_train[mask]\n",
    "    y_dev = y_train[mask]\n",
    "    \n",
    "    # Preprocessing: reshape the image data into rows\n",
    "    X_train = np.reshape(X_train, (X_train.shape[0], -1))\n",
    "    X_val = np.reshape(X_val, (X_val.shape[0], -1))\n",
    "    X_test = np.reshape(X_test, (X_test.shape[0], -1))\n",
    "    X_dev = np.reshape(X_dev, (X_dev.shape[0], -1))\n",
    "    \n",
    "    # Normalize the data: subtract the mean image\n",
    "    mean_image = np.mean(X_train, axis = 0)\n",
    "    X_train -= mean_image\n",
    "    X_val -= mean_image\n",
    "    X_test -= mean_image\n",
    "    X_dev -= mean_image\n",
    "    \n",
    "    # add bias dimension and transform into columns\n",
    "    X_train = np.hstack([X_train, np.ones((X_train.shape[0], 1))])\n",
    "    X_val = np.hstack([X_val, np.ones((X_val.shape[0], 1))])\n",
    "    X_test = np.hstack([X_test, np.ones((X_test.shape[0], 1))])\n",
    "    X_dev = np.hstack([X_dev, np.ones((X_dev.shape[0], 1))])\n",
    "    \n",
    "    return X_train, y_train, X_val, y_val, X_test, y_test, X_dev, y_dev\n",
    "\n",
    "\n",
    "# Cleaning up variables to prevent loading data multiple times (which may cause memory issue)\n",
    "try:\n",
    "   del X_train, y_train\n",
    "   del X_test, y_test\n",
    "   print('Clear previously loaded data.')\n",
    "except:\n",
    "   pass\n",
    "\n",
    "# Invoke the above function to get our data.\n",
    "X_train, y_train, X_val, y_val, X_test, y_test, X_dev, y_dev = get_CIFAR10_data()\n",
    "print('Train data shape: ', X_train.shape)\n",
    "print('Train labels shape: ', y_train.shape)\n",
    "print('Validation data shape: ', X_val.shape)\n",
    "print('Validation labels shape: ', y_val.shape)\n",
    "print('Test data shape: ', X_test.shape)\n",
    "print('Test labels shape: ', y_test.shape)\n",
    "print('dev data shape: ', X_dev.shape)\n",
    "print('dev labels shape: ', y_dev.shape)"
   ]
  },
  {
   "cell_type": "markdown",
   "metadata": {},
   "source": [
    "## Softmax Classifier\n",
    "\n",
    "Your code for this section will all be written inside **cs231n/classifiers/softmax.py**. \n"
   ]
  },
  {
   "cell_type": "code",
   "execution_count": 5,
   "metadata": {},
   "outputs": [
    {
     "name": "stdout",
     "output_type": "stream",
     "text": [
      "loss: 2.326846\n",
      "sanity check: 2.302585\n"
     ]
    }
   ],
   "source": [
    "# First implement the naive softmax loss function with nested loops.\n",
    "# Open the file cs231n/classifiers/softmax.py and implement the\n",
    "# softmax_loss_naive function.\n",
    "\n",
    "from cs231n.classifiers.softmax import softmax_loss_naive\n",
    "import time\n",
    "\n",
    "# Generate a random softmax weight matrix and use it to compute the loss.\n",
    "W = np.random.randn(3073, 10) * 0.0001\n",
    "loss, grad = softmax_loss_naive(W, X_dev, y_dev, 0.0)\n",
    "\n",
    "# As a rough sanity check, our loss should be something close to -log(0.1).\n",
    "print('loss: %f' % loss)\n",
    "print('sanity check: %f' % (-np.log(0.1)))"
   ]
  },
  {
   "cell_type": "markdown",
   "metadata": {},
   "source": [
    "**Inline Question 1**\n",
    "\n",
    "Why do we expect our loss to be close to -log(0.1)? Explain briefly.**\n",
    "\n",
    "$\\color{blue}{\\textit Your Answer:}$ *\n",
    "Since the paeameter W is generated at random, the probability of correct classification is 1/10 = 0.1, the loss function is -log(0.1) accordingly.\n",
    "* \n"
   ]
  },
  {
   "cell_type": "code",
   "execution_count": 6,
   "metadata": {},
   "outputs": [
    {
     "name": "stdout",
     "output_type": "stream",
     "text": [
      "numerical: -3.572792 analytic: -3.572792, relative error: 3.566762e-08\n",
      "numerical: 0.638187 analytic: 0.638187, relative error: 8.916904e-08\n",
      "numerical: -2.152316 analytic: -2.152316, relative error: 1.910305e-08\n",
      "numerical: 1.110548 analytic: 1.110548, relative error: 7.766727e-08\n",
      "numerical: -0.525258 analytic: -0.525258, relative error: 1.422862e-07\n",
      "numerical: 0.742682 analytic: 0.742682, relative error: 1.466784e-08\n",
      "numerical: 0.074679 analytic: 0.074679, relative error: 6.686989e-07\n",
      "numerical: 0.715930 analytic: 0.715930, relative error: 5.377266e-08\n",
      "numerical: -2.176582 analytic: -2.176582, relative error: 1.101994e-08\n",
      "numerical: 0.127128 analytic: 0.127128, relative error: 1.507180e-07\n",
      "numerical: 1.224097 analytic: 1.224097, relative error: 9.753323e-09\n",
      "numerical: 1.088699 analytic: 1.088699, relative error: 2.665036e-08\n",
      "numerical: 0.573295 analytic: 0.573295, relative error: 6.341191e-08\n",
      "numerical: 0.883411 analytic: 0.883411, relative error: 5.857374e-08\n",
      "numerical: -4.606293 analytic: -4.606293, relative error: 1.649675e-08\n",
      "numerical: 0.817314 analytic: 0.817314, relative error: 6.442436e-08\n",
      "numerical: -0.876629 analytic: -0.876629, relative error: 4.297278e-08\n",
      "numerical: -0.615061 analytic: -0.615061, relative error: 3.470736e-09\n",
      "numerical: -0.518015 analytic: -0.518015, relative error: 6.872307e-08\n",
      "numerical: -0.379380 analytic: -0.379380, relative error: 2.655570e-08\n"
     ]
    }
   ],
   "source": [
    "# Complete the implementation of softmax_loss_naive and implement a (naive)\n",
    "# version of the gradient that uses nested loops.\n",
    "loss, grad = softmax_loss_naive(W, X_dev, y_dev, 0.0)\n",
    "\n",
    "# As we did for the SVM, use numeric gradient checking as a debugging tool.\n",
    "# The numeric gradient should be close to the analytic gradient.\n",
    "from cs231n.gradient_check import grad_check_sparse\n",
    "f = lambda w: softmax_loss_naive(w, X_dev, y_dev, 0.0)[0]\n",
    "grad_numerical = grad_check_sparse(f, W, grad, 10)\n",
    "\n",
    "# similar to SVM case, do another gradient check with regularization\n",
    "loss, grad = softmax_loss_naive(W, X_dev, y_dev, 5e1)\n",
    "f = lambda w: softmax_loss_naive(w, X_dev, y_dev, 5e1)[0]\n",
    "grad_numerical = grad_check_sparse(f, W, grad, 10)"
   ]
  },
  {
   "cell_type": "code",
   "execution_count": 7,
   "metadata": {},
   "outputs": [
    {
     "name": "stdout",
     "output_type": "stream",
     "text": [
      "naive loss: 2.326846e+00 computed in 0.270287s\n",
      "vectorized loss: 2.326846e+00 computed in 0.007438s\n",
      "Loss difference: 0.000000\n",
      "Gradient difference: 0.000000\n"
     ]
    }
   ],
   "source": [
    "# Now that we have a naive implementation of the softmax loss function and its gradient,\n",
    "# implement a vectorized version in softmax_loss_vectorized.\n",
    "# The two versions should compute the same results, but the vectorized version should be\n",
    "# much faster.\n",
    "tic = time.time()\n",
    "loss_naive, grad_naive = softmax_loss_naive(W, X_dev, y_dev, 0.000005)\n",
    "toc = time.time()\n",
    "print('naive loss: %e computed in %fs' % (loss_naive, toc - tic))\n",
    "\n",
    "from cs231n.classifiers.softmax import softmax_loss_vectorized\n",
    "tic = time.time()\n",
    "loss_vectorized, grad_vectorized = softmax_loss_vectorized(W, X_dev, y_dev, 0.000005)\n",
    "toc = time.time()\n",
    "print('vectorized loss: %e computed in %fs' % (loss_vectorized, toc - tic))\n",
    "\n",
    "# As we did for the SVM, we use the Frobenius norm to compare the two versions\n",
    "# of the gradient.\n",
    "grad_difference = np.linalg.norm(grad_naive - grad_vectorized, ord='fro')\n",
    "print('Loss difference: %f' % np.abs(loss_naive - loss_vectorized))\n",
    "print('Gradient difference: %f' % grad_difference)"
   ]
  },
  {
   "cell_type": "code",
   "execution_count": 9,
   "metadata": {},
   "outputs": [
    {
     "name": "stdout",
     "output_type": "stream",
     "text": [
      "iteration 0 / 1201: loss 6.140204\n",
      "iteration 100 / 1201: loss 4.387076\n",
      "iteration 200 / 1201: loss 3.437942\n",
      "iteration 300 / 1201: loss 2.870362\n",
      "iteration 400 / 1201: loss 2.534834\n",
      "iteration 500 / 1201: loss 2.333990\n",
      "iteration 600 / 1201: loss 2.208135\n",
      "iteration 700 / 1201: loss 2.144599\n",
      "iteration 800 / 1201: loss 2.086235\n",
      "iteration 900 / 1201: loss 2.046057\n",
      "iteration 1000 / 1201: loss 2.039205\n",
      "iteration 1100 / 1201: loss 2.038594\n",
      "iteration 1200 / 1201: loss 2.040483\n",
      "iteration 0 / 1201: loss 9.884491\n",
      "iteration 100 / 1201: loss 4.855422\n",
      "iteration 200 / 1201: loss 3.106603\n",
      "iteration 300 / 1201: loss 2.455083\n",
      "iteration 400 / 1201: loss 2.230083\n",
      "iteration 500 / 1201: loss 2.138858\n",
      "iteration 600 / 1201: loss 2.104410\n",
      "iteration 700 / 1201: loss 2.083606\n",
      "iteration 800 / 1201: loss 2.090489\n",
      "iteration 900 / 1201: loss 2.090891\n",
      "iteration 1000 / 1201: loss 2.073438\n",
      "iteration 1100 / 1201: loss 2.087745\n",
      "iteration 1200 / 1201: loss 2.092134\n",
      "iteration 0 / 1201: loss 6.227016\n",
      "iteration 100 / 1201: loss 2.323351\n",
      "iteration 200 / 1201: loss 2.037417\n",
      "iteration 300 / 1201: loss 2.024488\n",
      "iteration 400 / 1201: loss 2.028297\n",
      "iteration 500 / 1201: loss 2.014034\n",
      "iteration 600 / 1201: loss 2.012226\n",
      "iteration 700 / 1201: loss 2.027564\n",
      "iteration 800 / 1201: loss 2.029016\n",
      "iteration 900 / 1201: loss 2.021716\n",
      "iteration 1000 / 1201: loss 2.023344\n",
      "iteration 1100 / 1201: loss 2.023845\n",
      "iteration 1200 / 1201: loss 2.025370\n",
      "iteration 0 / 1201: loss 9.976089\n",
      "iteration 100 / 1201: loss 2.138891\n",
      "iteration 200 / 1201: loss 2.082556\n",
      "iteration 300 / 1201: loss 2.085628\n",
      "iteration 400 / 1201: loss 2.089492\n",
      "iteration 500 / 1201: loss 2.085109\n",
      "iteration 600 / 1201: loss 2.080885\n",
      "iteration 700 / 1201: loss 2.082671\n",
      "iteration 800 / 1201: loss 2.085740\n",
      "iteration 900 / 1201: loss 2.084377\n",
      "iteration 1000 / 1201: loss 2.078472\n",
      "iteration 1100 / 1201: loss 2.090542\n",
      "iteration 1200 / 1201: loss 2.080328\n",
      "lr 1.000000e-07 reg 2.500000e+04 train accuracy: 0.351510 val accuracy: 0.362000\n",
      "lr 1.000000e-07 reg 5.000000e+04 train accuracy: 0.330367 val accuracy: 0.346000\n",
      "lr 5.000000e-07 reg 2.500000e+04 train accuracy: 0.351878 val accuracy: 0.373000\n",
      "lr 5.000000e-07 reg 5.000000e+04 train accuracy: 0.327510 val accuracy: 0.339000\n",
      "best validation accuracy achieved during cross-validation: 0.373000\n"
     ]
    }
   ],
   "source": [
    "# Use the validation set to tune hyperparameters (regularization strength and\n",
    "# learning rate). You should experiment with different ranges for the learning\n",
    "# rates and regularization strengths; if you are careful you should be able to\n",
    "# get a classification accuracy of over 0.35 on the validation set.\n",
    "from cs231n.classifiers import Softmax\n",
    "results = {}\n",
    "best_val = -1\n",
    "best_softmax = None\n",
    "learning_rates = [1e-7, 5e-7]\n",
    "regularization_strengths = [2.5e4, 5e4]\n",
    "\n",
    "################################################################################\n",
    "# TODO:                                                                        #\n",
    "# Use the validation set to set the learning rate and regularization strength. #\n",
    "# This should be identical to the validation that you did for the SVM; save    #\n",
    "# the best trained softmax classifer in best_softmax.                          #\n",
    "################################################################################\n",
    "itertimes = 1201\n",
    "best_val = 0\n",
    "for learningrate in learning_rates:\n",
    "    for reg in regularization_strengths:\n",
    "        clf = Softmax()\n",
    "        clf.train(X_train, y_train,\n",
    "            learning_rate=learningrate,reg=reg,num_iters=itertimes,batch_size= 5000,verbose=True)\n",
    "        \n",
    "        y_test_pred = clf.predict(X_val)\n",
    "        acc_val = np.mean(y_val == y_test_pred,dtype=np.float32)\n",
    "        y_val_pred = clf.predict(X_train)\n",
    "        acc_train = np.mean(y_train == y_val_pred,dtype=np.float32)\n",
    "        results[(learningrate,reg)] = acc_train,acc_val\n",
    "        if acc_val > best_val:\n",
    "            best_val = acc_val\n",
    "            best_softmax = clf\n",
    "################################################################################\n",
    "#                              END OF YOUR CODE                                #\n",
    "################################################################################\n",
    "    \n",
    "# Print out results.\n",
    "for lr, reg in sorted(results):\n",
    "    train_accuracy, val_accuracy = results[(lr, reg)]\n",
    "    print('lr %e reg %e train accuracy: %f val accuracy: %f' % (\n",
    "                lr, reg, train_accuracy, val_accuracy))\n",
    "    \n",
    "print('best validation accuracy achieved during cross-validation: %f' % best_val)"
   ]
  },
  {
   "cell_type": "code",
   "execution_count": 10,
   "metadata": {},
   "outputs": [
    {
     "name": "stdout",
     "output_type": "stream",
     "text": [
      "softmax on raw pixels final test set accuracy: 0.366000\n"
     ]
    }
   ],
   "source": [
    "# evaluate on test set\n",
    "# Evaluate the best softmax on test set\n",
    "y_test_pred = best_softmax.predict(X_test)\n",
    "test_accuracy = np.mean(y_test == y_test_pred)\n",
    "print('softmax on raw pixels final test set accuracy: %f' % (test_accuracy, ))"
   ]
  },
  {
   "cell_type": "markdown",
   "metadata": {},
   "source": [
    "**Inline Question 2** - *True or False*\n",
    "\n",
    "Suppose the overall training loss is defined as the sum of the per-datapoint loss over all training examples. It is possible to add a new datapoint to a training set that would leave the SVM loss unchanged, but this is not the case with the Softmax classifier loss.\n",
    "\n",
    "$\\color{blue}{\\textit Your Answer:}$True\n",
    "\n",
    "\n",
    "$\\color{blue}{\\textit Your Explanation:}$\n",
    "*If the added data is not a support vector in the SVM, it will not affect its loss function, but for softmax, there is a loss value for each point, because the prediction probability will not be 1.*\n"
   ]
  },
  {
   "cell_type": "code",
   "execution_count": 11,
   "metadata": {},
   "outputs": [
    {
     "data": {
      "image/png": "[encoded data removed]",
      "text/plain": [
       "<Figure size 432x288 with 10 Axes>"
      ]
     },
     "metadata": {
      "needs_background": "light"
     },
     "output_type": "display_data"
    }
   ],
   "source": [
    "# Visualize the learned weights for each class\n",
    "w = best_softmax.W[:-1,:] # strip out the bias\n",
    "w = w.reshape(32, 32, 3, 10)\n",
    "\n",
    "w_min, w_max = np.min(w), np.max(w)\n",
    "\n",
    "classes = ['plane', 'car', 'bird', 'cat', 'deer', 'dog', 'frog', 'horse', 'ship', 'truck']\n",
    "for i in range(10):\n",
    "    plt.subplot(2, 5, i + 1)\n",
    "    \n",
    "    # Rescale the weights to be between 0 and 255\n",
    "    wimg = 255.0 * (w[:, :, :, i].squeeze() - w_min) / (w_max - w_min)\n",
    "    plt.imshow(wimg.astype('uint8'))\n",
    "    plt.axis('off')\n",
    "    plt.title(classes[i])"
   ]
  }
 ],
 "metadata": {
  "kernelspec": {
   "display_name": "Python 3",
   "language": "python",
   "name": "python3"
  },
  "language_info": {
   "codemirror_mode": {
    "name": "ipython",
    "version": 3
   },
   "file_extension": ".py",
   "mimetype": "text/x-python",
   "name": "python",
   "nbconvert_exporter": "python",
   "pygments_lexer": "ipython3",
   "version": "3.7.0"
  }
 },
 "nbformat": 4,
 "nbformat_minor": 1
}
